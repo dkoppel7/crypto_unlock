{
 "cells": [
  {
   "cell_type": "raw",
   "id": "d4e24cfc",
   "metadata": {},
   "source": [
    "The following program is a function to compare the performance of a crypto coin that experienced an unlock to Bitcoin and Ethereum.\n",
    "The function takes in two paramters, the ID of the coin (found on coingecko), and the date of the unlock. "
   ]
  },
  {
   "cell_type": "code",
   "execution_count": 38,
   "id": "a91d52dd",
   "metadata": {},
   "outputs": [],
   "source": [
    "import requests\n",
    "from tabulate import tabulate\n",
    "from datetime import datetime"
   ]
  },
  {
   "cell_type": "raw",
   "id": "325ce945",
   "metadata": {},
   "source": [
    "Utilizing the coingecko API, several calls are made to get the price of the desired coin at different dates: the day of the unlock, week before the unlock, month before the unlock, and week after the unlock. The datetime library is utilized to manipulate the date and convert it back to a string.\n",
    "\n",
    "The % change is calculated for each price, with the initial price as the basis for each.\n",
    "\n",
    "The tabulate library is then used to summarize the findings."
   ]
  },
  {
   "cell_type": "code",
   "execution_count": 40,
   "id": "45745c67",
   "metadata": {},
   "outputs": [],
   "source": [
    "def coin_unlock(unlockcoin, date):\n",
    "    url = str('https://api.coingecko.com/api/v3/coins/' + unlockcoin + \"/history/\")\n",
    "\n",
    "    response = requests.get(url, params={'date': date})\n",
    "    data = response.json()\n",
    "    uCoin = []\n",
    "    uCoin.append(data['market_data']['current_price']['usd'])\n",
    "\n",
    "    url = str('https://api.coingecko.com/api/v3/coins/' + unlockcoin + \"/history/\")\n",
    "\n",
    "    dt = datetime.strptime(date, '%d-%m-%Y')\n",
    "    new_date = dt.replace(day=dt.day - 7)\n",
    "    new_date = new_date.strftime('%d-%m-%Y')\n",
    "    response = requests.get(url, params={'date': new_date})\n",
    "    data = response.json()\n",
    "    uCoin.append(data['market_data']['current_price']['usd'])\n",
    "\n",
    "    url = str('https://api.coingecko.com/api/v3/coins/' + unlockcoin + \"/history/\")\n",
    "\n",
    "    dt = datetime.strptime(date, '%d-%m-%Y')\n",
    "    new_date = dt.replace(month=dt.month - 1)\n",
    "    new_date = new_date.strftime('%d-%m-%Y')\n",
    "    response = requests.get(url, params={'date': new_date})\n",
    "    data = response.json()\n",
    "    uCoin.append(data['market_data']['current_price']['usd'])\n",
    "\n",
    "    url = str('https://api.coingecko.com/api/v3/coins/' + unlockcoin + \"/history/\")\n",
    "\n",
    "    dt = datetime.strptime(date, '%d-%m-%Y')\n",
    "    new_date = dt.replace(day=dt.day + 7)\n",
    "    new_date = new_date.strftime('%d-%m-%Y')\n",
    "    response = requests.get(url, params={'date': new_date})\n",
    "    data = response.json()\n",
    "    uCoin.append(data['market_data']['current_price']['usd'])\n",
    "    bitcoin = []\n",
    "\n",
    "    url = 'https://api.coingecko.com/api/v3/coins/bitcoin/history/'\n",
    "\n",
    "    response = requests.get(url, params={'date': date})\n",
    "    data = response.json()\n",
    "    bitcoin.append(data['market_data']['current_price']['usd'])\n",
    "\n",
    "    url = 'https://api.coingecko.com/api/v3/coins/bitcoin/history/'\n",
    "\n",
    "    dt = datetime.strptime(date, '%d-%m-%Y')\n",
    "    new_date = dt.replace(day=dt.day - 7)\n",
    "    new_date = new_date.strftime('%d-%m-%Y')\n",
    "    response = requests.get(url, params={'date': new_date})\n",
    "    data = response.json()\n",
    "    bitcoin.append(data['market_data']['current_price']['usd'])\n",
    "\n",
    "    url = 'https://api.coingecko.com/api/v3/coins/bitcoin/history/'\n",
    "\n",
    "    dt = datetime.strptime(date, '%d-%m-%Y')\n",
    "    new_date = dt.replace(month=dt.month - 1)\n",
    "    new_date = new_date.strftime('%d-%m-%Y')\n",
    "    response = requests.get(url, params={'date': new_date})\n",
    "    data = response.json()\n",
    "    bitcoin.append(data['market_data']['current_price']['usd'])\n",
    "\n",
    "    url = 'https://api.coingecko.com/api/v3/coins/bitcoin/history/'\n",
    "\n",
    "    dt = datetime.strptime(date, '%d-%m-%Y')\n",
    "    new_date = dt.replace(day=dt.day + 7)\n",
    "    new_date = new_date.strftime('%d-%m-%Y')\n",
    "    response = requests.get(url, params={'date': new_date})\n",
    "    data = response.json()\n",
    "    bitcoin.append(data['market_data']['current_price']['usd'])\n",
    "\n",
    "    eth = []\n",
    "\n",
    "    url = 'https://api.coingecko.com/api/v3/coins/ethereum/history/'\n",
    "\n",
    "    response = requests.get(url, params={'date': date})\n",
    "    data = response.json()\n",
    "    eth.append(data['market_data']['current_price']['usd'])\n",
    "\n",
    "    url = 'https://api.coingecko.com/api/v3/coins/ethereum/history/'\n",
    "\n",
    "    dt = datetime.strptime(date, '%d-%m-%Y')\n",
    "    new_date = dt.replace(day=dt.day - 7)\n",
    "    new_date = new_date.strftime('%d-%m-%Y')\n",
    "    response = requests.get(url, params={'date': new_date})\n",
    "    data = response.json()\n",
    "    eth.append(data['market_data']['current_price']['usd'])\n",
    "\n",
    "    url = 'https://api.coingecko.com/api/v3/coins/ethereum/history/'\n",
    "\n",
    "    dt = datetime.strptime(date, '%d-%m-%Y')\n",
    "    new_date = dt.replace(month=dt.month - 1)\n",
    "    new_date = new_date.strftime('%d-%m-%Y')\n",
    "    response = requests.get(url, params={'date': new_date})\n",
    "    data = response.json()\n",
    "    eth.append(data['market_data']['current_price']['usd'])\n",
    "\n",
    "    url = 'https://api.coingecko.com/api/v3/coins/ethereum/history/'\n",
    "\n",
    "    dt = datetime.strptime(date, '%d-%m-%Y')\n",
    "    new_date = dt.replace(day=dt.day + 7)\n",
    "    new_date = new_date.strftime('%d-%m-%Y')\n",
    "    response = requests.get(url, params={'date': new_date})\n",
    "    data = response.json()\n",
    "    eth.append(data['market_data']['current_price']['usd'])\n",
    "    uCoin.append(((uCoin[0] - uCoin[1]) / uCoin[0]) * 100)\n",
    "    uCoin.append(((uCoin[0] - uCoin[2]) / uCoin[0]) * 100)\n",
    "    uCoin.append(((uCoin[0] - uCoin[3]) / uCoin[0]) * 100)\n",
    "\n",
    "    bitcoin.append(((bitcoin[0] - bitcoin[1]) / bitcoin[0]) * 100)\n",
    "    bitcoin.append(((bitcoin[0] - bitcoin[2]) / bitcoin[0]) * 100)\n",
    "    bitcoin.append(((bitcoin[0] - bitcoin[3]) / bitcoin[0]) * 100)\n",
    "\n",
    "    eth.append(((eth[0] - eth[1]) / eth[0]) * 100)\n",
    "    eth.append(((eth[0] - eth[2]) / eth[0]) * 100)\n",
    "    eth.append(((eth[0] - eth[3]) / eth[0]) * 100)\n",
    "    column_names = ['Day of Unlock', 'Week before Unlock', 'Month before Unlock',\n",
    "                    'Week after Unlock', '% Change', '% Change', '% Change']\n",
    "    rowIDs = [unlockcoin, 'BTC', 'ETH']\n",
    "    table = [uCoin, bitcoin, eth]\n",
    "    print(tabulate(table, headers=column_names, showindex=rowIDs, numalign='right'))"
   ]
  },
  {
   "cell_type": "raw",
   "id": "9ce1c92e",
   "metadata": {},
   "source": [
    "Sample output below:"
   ]
  },
  {
   "cell_type": "code",
   "execution_count": 41,
   "id": "e74c4339",
   "metadata": {
    "scrolled": true
   },
   "outputs": [
    {
     "name": "stdout",
     "output_type": "stream",
     "text": [
      "             Day of Unlock    Week before Unlock    Month before Unlock    Week after Unlock    % Change    % Change    % Change\n",
      "---------  ---------------  --------------------  ---------------------  -------------------  ----------  ----------  ----------\n",
      "looksrare         0.312052               0.36524               0.199885             0.427905    -17.0447     35.9448    -37.1263\n",
      "BTC                20574.8               21660.6                22244.8              23155.2    -5.27711    -8.11675    -12.5414\n",
      "ETH                1191.13               1240.38                1214.87              1576.83    -4.13452    -1.99268    -32.3805\n"
     ]
    }
   ],
   "source": [
    "coin_unlock('looksrare', '15-07-2022')"
   ]
  },
  {
   "cell_type": "code",
   "execution_count": null,
   "id": "215b7d63",
   "metadata": {},
   "outputs": [],
   "source": []
  }
 ],
 "metadata": {
  "kernelspec": {
   "display_name": "Python 3 (ipykernel)",
   "language": "python",
   "name": "python3"
  },
  "language_info": {
   "codemirror_mode": {
    "name": "ipython",
    "version": 3
   },
   "file_extension": ".py",
   "mimetype": "text/x-python",
   "name": "python",
   "nbconvert_exporter": "python",
   "pygments_lexer": "ipython3",
   "version": "3.9.12"
  }
 },
 "nbformat": 4,
 "nbformat_minor": 5
}
